{
  "nbformat": 4,
  "nbformat_minor": 0,
  "metadata": {
    "colab": {
      "name": "Projekt Kryptografia: Technologia Blockchain - Zastosowania inne niż kryptowaluty.ipynb",
      "provenance": [],
      "collapsed_sections": [],
      "toc_visible": true
    },
    "kernelspec": {
      "name": "python3",
      "display_name": "Python 3"
    },
    "language_info": {
      "name": "python"
    }
  },
  "cells": [
    {
      "cell_type": "markdown",
      "metadata": {
        "id": "HcxbOYsvB0Er"
      },
      "source": [
        "#**TECHNOLOGIA BLOCKCHAIN - Zastosowania inne niż kryptowaluty**\n",
        "Adrian Sekuła, Nicolas Bełz\n",
        "\n",
        ">Blockchain jest bazą danych przechowującą dane w formie łańcucha bloków. Oznacza to, że wprowadzone dane są nieodwracalne. Zdecentralizowany charakter tej technologii sprawia, że można ją wykorzystać w wielu dziedzinach.\n",
        "\n",
        "\n",
        "\n",
        "*Blockchain został po raz pierwszy opisany w 1991 roku przez Stuarta Habera i Scotta Stornett’a*\n",
        "\n"
      ]
    },
    {
      "cell_type": "markdown",
      "metadata": {
        "id": "HDo4boTPFVm9"
      },
      "source": [
        "#**Hash**\n",
        "Hash to wynik działania operacji matematycznej na określonym ciagu znaków. \n",
        "Operacje te nazywamy funkcją skrótu lub funkcją haszującą. Funkcja ta przekształca podane przez użytkownika dane wejściowe na krótką wartość znakową.\n",
        "Funkcja skrótu nie jest odwracalna. \n",
        "Wartość wyjściowa po zastosowaniu funkcji skrótu będzie zawsze taka sama tzn. jej długość nie zależy od długości danych podanych przez użytkownika ani od czasu jej wykonywania. \n",
        "Wykonana funkcja skrótu na tym samym pliku za każdym razem zwróci taki sam wynik. Wynik ten często nazywany jest jego odciskiem palca. \n",
        "\n",
        "Funkcja hash w technologii blockchain zapewnia bezpieczeństwo oraz pewność, że dane we wcześniejszych blokach nie były zmieniane\n",
        "\n",
        "**Zastosowanie hash w blockchain**\n",
        "\n",
        "Hash znajduje się w każdym bloku łańcucha blockchain. W każdym następnym bloku znajduje się hash poprzedniego bloku. \n",
        "\n",
        "**Popularne funkcje skrótu:**\n",
        "\n",
        "*   MD5 - 32 znakowa (128 bitowa) wartość końcowa,\n",
        "*   SHA-1 - 40 znakowa (160-bitowa) wartość końcowa,\n",
        "*   SHA-256 - 64 znakowa (256-bitowa) wartość końcowa.\n",
        "\n",
        "\n",
        "\n",
        "\n"
      ]
    },
    {
      "cell_type": "code",
      "metadata": {
        "id": "G7JUK3boB28B",
        "colab": {
          "base_uri": "https://localhost:8080/"
        },
        "outputId": "1ba6d88e-2e96-4d34-9b56-3bb303faa15a"
      },
      "source": [
        "from hashlib import sha256\n",
        "\n",
        "data = \"test\"\n",
        "\n",
        "print(\"Text:\",data,\"\\nSHA 256:\", sha256(data.encode()).hexdigest())"
      ],
      "execution_count": null,
      "outputs": [
        {
          "output_type": "stream",
          "name": "stdout",
          "text": [
            "Text: test \n",
            "SHA 256: 9f86d081884c7d659a2feaa0c55ad015a3bf4f1b2b0b822cd15d6c15b0f00a08\n"
          ]
        }
      ]
    },
    {
      "cell_type": "markdown",
      "metadata": {
        "id": "wkEVqTktIr0g"
      },
      "source": [
        "#**Blok** \n",
        "Jest podstawowym elementem wchodzącym w skład łańcucha blockchain. Składa się z nagłówka i danych\n",
        "\n",
        "**Informacje zawarte w nagłówku:**\n",
        "* Zapisane odniesienie do poprzedniego bloku w łancuchu w postaci hasha\n",
        "* Znacznik czasowy utworzenia bloku\n",
        "\n",
        "\n",
        "*Rozmiar bloku uzależniony jest od konkretnej implementacji oraz jej charakterystyki.*"
      ]
    },
    {
      "cell_type": "code",
      "metadata": {
        "colab": {
          "base_uri": "https://localhost:8080/"
        },
        "id": "ljcP_16jQwkP",
        "outputId": "b553c5b0-edff-4a70-c222-ef835acff592"
      },
      "source": [
        "from hashlib import sha256\n",
        "from datetime import datetime\n",
        "\n",
        "class Block():\n",
        "\n",
        "    def __init__(self, previous_block_hash, data):\n",
        "        self.previous_block_hash = previous_block_hash\n",
        "        self.data = data\n",
        "        self.nonce = 0\n",
        "        self.block_hash = None\n",
        "        self.creation_date = datetime.now().strftime(\"%H:%M:%S %d/%m/%Y\")\n",
        "\n",
        "    def compute_hash(self):\n",
        "        block_data = self.previous_block_hash + self.data\n",
        "        block_hash = sha256(block_data.encode()).hexdigest()\n",
        "        return block_hash\n",
        "\n",
        "\n",
        "b1 = Block(\"Initial hash\", \"data\")\n",
        "\n",
        "print(b1.compute_hash())\n",
        "    \n",
        "\n"
      ],
      "execution_count": null,
      "outputs": [
        {
          "output_type": "stream",
          "name": "stdout",
          "text": [
            "a5e81f88599a6faca9ee021fafecc88912c8e5714e0f8b1c7bed692cab698eb9\n"
          ]
        }
      ]
    },
    {
      "cell_type": "markdown",
      "metadata": {
        "id": "SU9HHuVB00n3"
      },
      "source": [
        "#**Łańcuch bloków (Blockchain)**\n",
        "\n",
        "Blockchain (z ang. łańcuch bloków) jest zdecentralizowaną, najczęściej otwartoźródłową bazą danych w sieci internet. Architektura Peer-to-Peer pozwala na działanie bez udziału centralnie sterujących komputerów. Jeden blok zawiera w sobie określoną ilość danych, następnie po jego zamknięciu tworzy się kolejny blok danych, a za nim kolejny i następny, tworząc pewien rodzaj łańcucha. Jeśli chcemy dodać nową informację, to nie nadpisujemy istniejących już bloków, lecz dodajemy nowy. Weryfikacja transakcji opiera się na rozproszonym konsensusie. Aby dodać nowy blok wszystkie komputery muszą go zatwierdzić. Proces ten często zwany jest „kopaniem / miningiem” bądź „wydobywaniem”. Rozwiązywaniem skomplikowanych operacji matematycznych wymaganych do powstania nowego bloku zajmują się tzw. górnicy. Cały ten opisany proces zwany jest Proof of Work. "
      ]
    },
    {
      "cell_type": "code",
      "metadata": {
        "colab": {
          "base_uri": "https://localhost:8080/"
        },
        "id": "ZV5uxaLu01lo",
        "outputId": "94ab9778-9284-49fc-a97d-068861ab8470"
      },
      "source": [
        "from hashlib import sha256\n",
        "from datetime import datetime\n",
        "from random import randint\n",
        "from sys import maxsize\n",
        "from datetime import datetime\n",
        "\n",
        "\n",
        "class Blockchain():\n",
        "    block_list = []\n",
        "\n",
        "    def __init__(self):\n",
        "        self.block_list.append(self.genesis_block())\n",
        "\n",
        "    def genesis_block(self):\n",
        "        genesis_block_hash = '0' * 64\n",
        "        genesis_block_data = 'Genesis Block'\n",
        "        b = Block(genesis_block_hash, genesis_block_data)\n",
        "        b.block_hash = '0' * 64\n",
        "        return b\n",
        "\n",
        "    def add_block(self, data):\n",
        "        b = Block(self.previous_block().block_hash, data)\n",
        "        b.block_hash = b.compute_hash()\n",
        "        self.block_list.append(b)\n",
        "\n",
        "    def previous_block(self):\n",
        "        return self.block_list[-1]\n",
        "\n",
        "    def __str__(self):\n",
        "        return_string = \"\"\n",
        "        for block in enumerate(self.block_list):\n",
        "            return_string += f\"Block: {block[0]} ({block[1].creation_date})\\nHash: {block[1].block_hash}\\nData: {block[1].data}\\n\\n\"\n",
        "\n",
        "        return return_string\n",
        "\n",
        "\n",
        "blockchain1 = Blockchain()\n",
        "\n",
        "blockchain1.add_block(\"blok numer 2\")\n",
        "\n",
        "blockchain1.add_block(\":).\")\n",
        "\n",
        "blockchain1.add_block(\"blok numer 4\")\n",
        "\n",
        "print(blockchain1)\n"
      ],
      "execution_count": null,
      "outputs": [
        {
          "output_type": "stream",
          "name": "stdout",
          "text": [
            "Block: 0 (15:15:42 02/12/2021)\n",
            "Hash: 0000000000000000000000000000000000000000000000000000000000000000\n",
            "Data: Genesis Block\n",
            "\n",
            "Block: 1 (15:15:42 02/12/2021)\n",
            "Hash: b88578d3e6d6d50c782508fa632830bdbdfeb816d193899cf0404def764e8c5a\n",
            "Data: blok numer 2\n",
            "\n",
            "Block: 2 (15:15:42 02/12/2021)\n",
            "Hash: a66decd291e0275e8a1c335af0de42c4c5bb30e156f2f451353e9e8ad35e7a6f\n",
            "Data: :).\n",
            "\n",
            "Block: 3 (15:15:42 02/12/2021)\n",
            "Hash: 16b93c8aab975020f1b37e70dfb59ce24c7e89e5a360df15f9ad2e10ee6b5811\n",
            "Data: blok numer 4\n",
            "\n",
            "\n"
          ]
        }
      ]
    },
    {
      "cell_type": "markdown",
      "metadata": {
        "id": "g4DtbrfD0rVJ"
      },
      "source": [
        "#**Trudność \"kopania\" nowych bloków**\n",
        "\n",
        "Jeżeli chcemy, aby bloki nie mogły być dodawane zbyt często, możemy zdefiniować trudność kopania. Polega ona najczęsciej na tym, aby hash bloku zaczynał się od zdefiniowanej ilości zer. Im większa liczba zer tym większa moc obliczeniowa oraz większy czas potrzebny do wykopania danego bloku."
      ]
    },
    {
      "cell_type": "code",
      "metadata": {
        "id": "fkHk9d-IIxuk",
        "colab": {
          "base_uri": "https://localhost:8080/"
        },
        "outputId": "5b0c1ac4-7099-4f75-b648-f4bb0191fddb"
      },
      "source": [
        "from hashlib import sha256\n",
        "from datetime import datetime\n",
        "from random import randint\n",
        "from sys import maxsize\n",
        "\n",
        "class Blockchain():\n",
        "    difficulty = 4\n",
        "    block_list = []\n",
        "\n",
        "    def __init__(self):\n",
        "        self.block_list.append(self.genesis_block())\n",
        "\n",
        "    def genesis_block(self):\n",
        "        genesis_block_hash = '0' * 64\n",
        "        genesis_block_data = 'Genesis Block'\n",
        "        b = Block(genesis_block_hash, genesis_block_data)\n",
        "        b.block_hash = '0' * 64\n",
        "        return b\n",
        "\n",
        "    def add_block(self, data):\n",
        "        b = Block(self.block_list[-1].block_hash, data)\n",
        "        self.mine(b)\n",
        "\n",
        "    def get_previous_block(self):\n",
        "        return self.block_list[-1]\n",
        "\n",
        "    def mine(self, block):\n",
        "\n",
        "        self.nonce = randint(0, maxsize)\n",
        "        block_data = block.previous_block_hash + block.data + str(self.nonce)\n",
        "        block_hash = sha256(block_data.encode()).hexdigest()\n",
        "\n",
        "        while not block_hash.startswith(self.difficulty * '0'):\n",
        "\n",
        "            self.nonce = randint(0, maxsize)\n",
        "            block_data = block.previous_block_hash + \\\n",
        "                block.data + str(self.nonce)\n",
        "            block_hash = sha256(block_data.encode()).hexdigest()\n",
        "\n",
        "        block.block_hash = block_hash\n",
        "        block.creation_date = datetime.now().strftime(\"%H:%M:%S %d/%m/%Y\")\n",
        "        self.block_list.append(block)\n",
        "\n",
        "    def increase_difficulty(self, by=0):\n",
        "      if self.difficulty + by <= 64:\n",
        "        self.difficulty += by\n",
        "      else:\n",
        "        return ValueError(\"Trudność nie może być większa od 64!\")\n",
        "\n",
        "    def decrease_difficulty(self, by=0):\n",
        "      if self.difficulty - by >= 0:\n",
        "        self.difficulty -= by\n",
        "      else:\n",
        "        return ValueError(\"Trudność nie może być mniejsza niż 0!\")\n",
        "\n",
        "    def __str__(self):\n",
        "        return_string = \"\"\n",
        "        for block in enumerate(self.block_list):\n",
        "            return_string += f\"Block: {block[0]} ({block[1].creation_date})\\nHash: {block[1].block_hash}\\nData: {block[1].data}\\n\\n\"\n",
        "\n",
        "        return return_string\n",
        "\n",
        "\n",
        "blockchain1 = Blockchain()\n",
        "\n",
        "blockchain1.add_block(\"blok numer 2 :)\")\n",
        "\n",
        "blockchain1.increase_difficulty(by=1)\n",
        "\n",
        "blockchain1.add_block(\"blok numer 3\")\n",
        "\n",
        "print(blockchain1)\n"
      ],
      "execution_count": null,
      "outputs": [
        {
          "output_type": "stream",
          "name": "stdout",
          "text": [
            "Block: 0 (15:15:42 02/12/2021)\n",
            "Hash: 0000000000000000000000000000000000000000000000000000000000000000\n",
            "Data: Genesis Block\n",
            "\n",
            "Block: 1 (15:15:43 02/12/2021)\n",
            "Hash: 0000662af4add557bf04dc0647f40e94ec623a6edbc98e460abf9525b02e9629\n",
            "Data: blok numer 2 :)\n",
            "\n",
            "Block: 2 (15:15:44 02/12/2021)\n",
            "Hash: 00000328b460a20aca2b1262e9af5cfb8bf32d5f6548ab4dd744b912ef695c4a\n",
            "Data: blok numer 3\n",
            "\n",
            "\n"
          ]
        }
      ]
    },
    {
      "cell_type": "markdown",
      "metadata": {
        "id": "aQj14yxiruKV"
      },
      "source": [
        "#**//ZASTOSOWANIE**"
      ]
    },
    {
      "cell_type": "markdown",
      "source": [
        "# **NAJPOPULARNIEJSZE METODY ATAKU**\n",
        "\n",
        "\n",
        "\n",
        "\n",
        "\n",
        "#    **Phishing**\n",
        "Jak w przypadku każdego systemu informatycznego najbardziej wrażliwym elementem jest sam człowiek korzystający z niego. Każdego roku tysiące osób padają ofiarami ataków phishingowych.\n",
        "Najczęściej ofiary klikają w niebezpieczne linki znajdujące się w złośliwych emailach i tym samym pozbywają się swoich kluczy. \n",
        "Każdy portfel w sieci blockchain ma swój własny klucz publiczny oraz prywatny. Klucz publiczny wykorzystywany jest jako adres portfela służący do wysyłania między użytkownikami elementów znajdujących się w danej sieci. Klucz prywatny służy do uzyskania dostępu do naszego portfela. Dlatego też, bezpieczeństwo przechowywanych danych opiera się w całkowitym stopniu na tajności naszego klucza prywatnego. Jeżeli atakujący uzyska nasz klucz prywatny, ma wszystko czego potrzeba do (najczęściej) kradzieży środków z naszego portfela.\n",
        "\n",
        "Co ciekawe w internecie instnieje mnóstwo baz danych z wszystkimi możliwymi kluczami prywatnymi np. sieci Bitcoin. Każdy może sobię ją dowolnie przeglądać. Mimo tego, że mamy dostęp do wszystkich kluczy prywatnych i teoretycznie powinniśmy znaleźć portfel na którym znajdują się środki to w praktyce ilość kluczy prywatnych (w przypadku sieci Bitcoin 2^256) sprawia, że jest to zadanie praktycznie niemożliwe.\n",
        "[Przykładowa baza danych z kluczami prywatnymy sieci Bitcoin](https://allkeys.cc)\n",
        "\n",
        "Przeanalizowanie wszystkich stron z powyższej bazy zajęło by 122,307,663,064,065,069,823,192,073,128,383,134,176,698,655,029,823,670 tysięcy lat przy założeniu, że każdej sekundy analizowali byśmy ich 3 miliardy.\n",
        "\n",
        "#    **Routing Attacks**\n",
        "\n",
        "\n",
        "W teorii sieć blockchain powinna być siecią silnie niezcentralizowaną, jednak w praktyce niestety tak nie jest. Dla przykładu: 68% mocy obliczeniowej sieci Bitcoin znajduje się w jedynie dziesięciu sieciach. A 60% wszystkich transakcji przechodzi przez trzy te same sieci.\n",
        "\n",
        "Następstwem powyższych statystyk jest atak **Partitioning**, którego celem jest przedzielenie sieci na 2 części.\n",
        "\n",
        "**Atak Partitioning** - podzielenie sieci na pół,\n",
        "atak widoczny, obejmujący całość sieci\n",
        "\n",
        "Realizacja polega na rozgłoszeniu komunikatów w sieci BGP, w wyniku których ruch który ma trafiać do danego routera, najpierw zawsze będzie trafiał do złośliwego urządzenia przechwytującego pakiety\n",
        "\n",
        "![Routing_Attack](https://imgur.com/a/RcuLXpf)\n",
        "\n",
        "Dzięki umiejętnemu rozesłaniu komunikatów o prefixach atakujący może podzielić sieć na pół i przechwytywać cały ruch przez nią przechodzący.\n",
        "\n",
        "![Network Intercept](https://imgur.com/a/JWSLh5j)\n",
        "\n",
        "Atakujący może w każdej chwili rozłączyć ruch z jednej strony sieci do drugiej, dzięki czemu przy zmianie jedynie 100 prefixów jest on w stanie zmniejszyć moc obliczeniową sieci o aż **połowę**\n",
        "\n",
        "Przechwycenie wszystkich połączeń w danej sieci zajmuje często mniej niż 2 minuty\n",
        "\n",
        "Atak działa, ponieważ BGP **nie sprawdza** wiarygodności rozsyłanych komunikatów, co oznacza, że każdy AS (Autonomic System) może rozgłośić taki prefix jaki tylko chce.\n",
        "\n",
        "**Jak przeciwdziałać atakowi?**\n",
        "\n",
        "Rozwiązanie krótkoterminowe: hostowanie wszystkich klientów sieci bitcoin w prefixach o masce /24\n",
        "\n",
        "Rozwiazanie długoterminowe:\n",
        "Używanie zabezpieczonych protokołów routingu np: S-BGP\n",
        "\n",
        "\n",
        "#    **Atak 51%**\n",
        "\n",
        "![51% attack](https://imgur.com/a/nvG6LI7)\n",
        "\n",
        "W sieci blockchain o tym co jest prawdą decyduje to, co przyjmuje większość sieci. Urządzenie podłączone do sieci \"wierzy\" tej stronie, która posiada większość mocy obliczeniowej wykorzystywanej do bieżącego potwierdzania operacji. Dlatego teoretycznie posiadając 51% mocy obliczeniowej całej sieci jesteśmy w stanie decydować samodzielnie o tym co się w danej sieci dzieje oraz jakie operacje będa wykonywane. Zagrożenia związane z przejęciem większości mocy obliczeniowej sieci to np.: tzw. double spending (wielokrotne wydawanie tych samych środków) czy fałszowanie wartości sald lub ogólnie informacji zawartych w blockchainie.\n",
        "\n",
        "Atak ten, jeśli nie zostanie wykryty w momencie jego wykonywania, jest póżniej bardzo cięzki do wykrycia.\n",
        "\n",
        "Zdobycie 51% mocy obliczeniowej danej sieci może odbyć się na 3 sposoby:\n",
        "*   wynajęcie mocy obliczeniowej\n",
        "*   stworzenie własnego zasobu mocy obliczeniowej\n",
        "*   zgrupowanie istniejących zasobów mocy obliczeniowej (pooling)\n",
        "\n",
        "Rozkład mocy obliczeniowej poszczególnych grup dla sieci Bitcoin na dzień 19.01.2022 wg. strony btc.com\n",
        "\n",
        "![pool_share](https://imgur.com/a/JsHA4oT)\n",
        "\n",
        "\n",
        "\n",
        "Na ten sposób ataku szczególnie narażone są sieci o mniejszej popularności i co za tym idzie mniejszej mocy obliczeniowej. Im sieć większa, tym cięzej jest ten atak wykonać\n",
        "\n",
        "[Strona obrazująca teoretyczny koszt ataku 51% na najpopularniejsze sieci blockchain](https://www.exaking.com/51)\n",
        "\n",
        "W przypadku sieci wykorzystujących algorytm **Proof of Work** atak polega na zdobyciu większości mocy obliczeniowej, natomiast w przypadku sieci opierających się na algorytmie **Proof of Stake** atak polega na zdobyciu większości \"obstawianej\" waluty danej sieci.\n",
        "Jednak atak ten w przypadku sieci opartych na Proof Of Stake jest cięższy, gdyż wymaga posiadania 51% kapitalizacji rynkowej danej sieci (Jeśli sieć Bitcoin przekonwertowana zostałą by na algorytm Proof Of Stake, koszt ataku 51% na dzień 19.01.2022 wynosiłby 0.51 * 3 141 963 269 215 zł co daje nam 1 602 401 267 299,65 zł)\n",
        " \n",
        "\n",
        "**Sposoby obrony przed atakiem 51%**\n",
        "\n",
        "Nie istnieje możliwość całkowitego obronienia się przed tym atakiem, jednak istnieje sposób na znaczne jego utrudnienie. Polega on na akceptowaniu jedynie \"starych\" wpisów sald np: wielogodzinnych, przez co atak musi trwać znacznie dłużej oraz jego koszt jest dużo wyższy.\n"
      ],
      "metadata": {
        "id": "xRfYoryBzmQ0"
      }
    },
    {
      "cell_type": "markdown",
      "source": [
        "# **MECHANIZM KONSENSUSU**\n",
        "\n",
        "**Czym jest mechanizm Konsensusu?**\n",
        "\n",
        "![consensus](https://imgur.com/a/lVJ3zv9)\n",
        "\n",
        "Mechanizm Konsensusu - umożliwia współdziałanie systemów typu rozproszonego wraz z zachowaniem bezpieczeństwa oraz integralności danych.\n",
        "\n",
        "**W skrócie: wszyscy użytkownicy w sieci posiadają jedną, identyczną informację o stanie sieci oraz informacji w niej zawartych.**\n",
        "\n",
        "Służy do uzgodnienia stanu sieci, natura systemów rozproszonych sprawia, że musi istnieć sposób na ustalenie, które dane mają być uznawane przez całą sieć jako dane prawdziwe oraz prawidłowe. Nie możliwa jest sytuacja, że jedne komputery posiadają daną informacje a inne jej nie posiadają lub jest ona inna. \n",
        "\n",
        "W mechanizmie konsensusu za prawdę uznaje się informację, którą posiada ponad 50% komputerów podłączonych do danej sieci, co znacznie utrudnia manipulacje w przypadku sieci rozległych\n",
        "\n",
        "Najpopularniejsze algoytmy konsensusu to:\n",
        "\n",
        "\n",
        "*   Proof of Work (PoW)\n",
        "*   Proof of Stake (PoS)\n",
        "\n",
        "\n"
      ],
      "metadata": {
        "id": "QcMYT5b3zZ99"
      }
    },
    {
      "cell_type": "markdown",
      "source": [
        "# **PROOF OF WORK VS PROOF OF STAKE**\n",
        "\n",
        "![pow vs pos](https://imgur.com/a/7r4SJWf)\n",
        "\n",
        "Każda sieć blockchain potrzebuje sposobu potwierdzania autentyczności zachodzących w niej operacji czy transakcji, dlatego w każdej sieci musi istnieć algorytm pozwalający określić nam kto dane operacje może zatwierdzać\n",
        "\n",
        "Dwoma najpopularniejszymi algorytmami są: Proof Of Work oraz Proof Of Stake\n",
        "\n",
        "# PROOF OF WORK\n",
        "\n",
        "Algorytm ten działa poprzez wykonywanie przez górników kryptograficznych \"puzli\". Pierwsza osoba, która znajdzie rozwiązanie (hash zawierający na początku odpowiednią ilość zer) otrzymuje nagrodę podczas generowania nowego bloku.\n",
        "\n",
        " Powoduje to jednak powstawanie coraz to większych \"farm\" zawierających dziesiątki tysięcy specjalnych GPU przeznaczonych do ciągłego wykonywania funkcji skrótu. Prowadzi to do ogromnego zużycia energii elektrycznej. Sama sieć Bitcoin zużywa rocznie średnio 110 TWh co stanowi ponad 0.5% globalnego zużycia energi i jest większe niż roczne zużycie energi takich państw jak m.in Szwecja czy Szwajcaria.\n",
        "\n",
        "Im więcej mocy obliczeniowej posiadamy, tym większa szansa na znalezienie odpowiedniego hasha, powoduje to łączenie się ze sobą górników w grupy co z kolei centralizuje całą sieć, czego oczywiście nie chcemy.\n",
        "\n",
        "\n",
        "# PROOF OF STAKE\n",
        "\n",
        "Algorytm Proof Of Stake polega na wybraniu jednego węzła w sieci w celu potwierdzenia danego bloku oraz wszystkich zawartych w nim operacji/transakcji\n",
        "\n",
        "W przeciwieństwie do Proof Of Work nie ma w nim górników, są jedynie jednostki walidujace dane operacje.\n",
        "\n",
        "Aby jednostka mogła zostać walidatorem musi przekazać daną ilość tokenów do sieci. Tokeny te zostają zablokowane na czas ich obstawiania oraz służą jako zabeczpieczenie przed fałszowaniem operacji. Jeżeli wykryte zostanie, że dana jednostka, która zostałą wybrana do potwierdzania operacji z danego bloku potwierdziłą operacje fałszywe, traci ona część swoich obstawionych tokenów. Jest to skuteczne jeśli traconych tokenów jest więcej niż teoretyczna nagroda, za potwierdzenie fałszywego bloku.\n",
        "\n",
        "**Uczciwe działanie jest bardziej opłacalne niż działanie nieuczciwe**\n",
        "\n",
        "Kolejnym zabezpieczeniem jest opóznienie w \"wyjęciu\" obstawionych tokenów z sieci. Zanim tokeny zostaną oddane musi minąć określony czas, tak aby upewnić się, że sieć zawsze ma możliwość ukarania walidacji fałszywych bloków.\n",
        "\n",
        "Prawdopodobieństwo zostania wybranym jako walidator danego bloku rośnie liniowo wraz z ilością obstawianych tokenów. Jest to jednak rozwiązanie sprawiedliwsze niż w przypadku algorytmu Proof Of Work, gdyż w nim osoby dysponujące większym kapitałem często mogą zdobyć potrzebny sprzęt w dużo lepszych cenach niż osoby z kapitalem ograniczonym.\n",
        "\n",
        "Nagrodą za potwierdzenie bloku są wszystkie opłaty, które zostały pobrane za operacje znajdujące się w danym bloku.\n",
        "\n",
        "Algorytm Proof Of Stake nie wymaga inwestowania w ogromne ilości sprzętu oraz energi elektrycznej przez co jest dużo bardziej przyjazny dla środowiska oraz gospodarki.\n"
      ],
      "metadata": {
        "id": "R0xKawA7zREn"
      }
    }
  ]
}